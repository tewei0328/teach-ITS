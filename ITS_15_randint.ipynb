{
  "nbformat": 4,
  "nbformat_minor": 0,
  "metadata": {
    "colab": {
      "provenance": [],
      "authorship_tag": "ABX9TyPekEVsfRGt8TwADTmw9pJ4",
      "include_colab_link": true
    },
    "kernelspec": {
      "name": "python3",
      "display_name": "Python 3"
    },
    "language_info": {
      "name": "python"
    }
  },
  "cells": [
    {
      "cell_type": "markdown",
      "metadata": {
        "id": "view-in-github",
        "colab_type": "text"
      },
      "source": [
        "<a href=\"https://colab.research.google.com/github/tewei0328/teach-ITS/blob/main/ITS_15_randint.ipynb\" target=\"_parent\"><img src=\"https://colab.research.google.com/assets/colab-badge.svg\" alt=\"Open In Colab\"/></a>"
      ]
    },
    {
      "cell_type": "code",
      "execution_count": 7,
      "metadata": {
        "id": "wPyzUDReJf3T"
      },
      "outputs": [],
      "source": [
        "from random import randint\n"
      ]
    },
    {
      "cell_type": "code",
      "source": [
        "num=randint(1,100)\n",
        "print(num)\n",
        "if num % 2 ==0:\n",
        "  print(\"偶數\")\n",
        "else:\n",
        "  print(\"奇數\")  "
      ],
      "metadata": {
        "colab": {
          "base_uri": "https://localhost:8080/"
        },
        "id": "ZB6u3i_DJyET",
        "outputId": "59e47ddc-e51b-4467-a9d3-a395022365ce"
      },
      "execution_count": 30,
      "outputs": [
        {
          "output_type": "stream",
          "name": "stdout",
          "text": [
            "50\n",
            "偶數\n"
          ]
        }
      ]
    },
    {
      "cell_type": "code",
      "source": [
        "num=randint(1,100)\n",
        "print(num)\n",
        "if num % 2 ==0:\n",
        "  print(\"%d是偶數\"%num)\n",
        "else:\n",
        "  print(\"%d是奇數\"%num)  "
      ],
      "metadata": {
        "colab": {
          "base_uri": "https://localhost:8080/"
        },
        "id": "SVhkL6X8Jy3j",
        "outputId": "c0c94235-6d4b-4148-c157-847be036b353"
      },
      "execution_count": 32,
      "outputs": [
        {
          "output_type": "stream",
          "name": "stdout",
          "text": [
            "86\n",
            "86是偶數\n"
          ]
        }
      ]
    }
  ]
}