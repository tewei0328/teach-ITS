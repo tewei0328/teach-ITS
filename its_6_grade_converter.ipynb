{
  "nbformat": 4,
  "nbformat_minor": 0,
  "metadata": {
    "colab": {
      "provenance": [],
      "authorship_tag": "ABX9TyMfVxIA36GOx9cf9RsEAUUj",
      "include_colab_link": true
    },
    "kernelspec": {
      "name": "python3",
      "display_name": "Python 3"
    },
    "language_info": {
      "name": "python"
    }
  },
  "cells": [
    {
      "cell_type": "markdown",
      "metadata": {
        "id": "view-in-github",
        "colab_type": "text"
      },
      "source": [
        "<a href=\"https://colab.research.google.com/github/tewei0328/teach-ITS/blob/main/its_6_grade_converter.ipynb\" target=\"_parent\"><img src=\"https://colab.research.google.com/assets/colab-badge.svg\" alt=\"Open In Colab\"/></a>"
      ]
    },
    {
      "cell_type": "code",
      "execution_count": 3,
      "metadata": {
        "colab": {
          "base_uri": "https://localhost:8080/"
        },
        "id": "BTZdxD7foFMv",
        "outputId": "e23dee04-ff5d-4164-c50c-9398e00d5b04"
      },
      "outputs": [
        {
          "output_type": "stream",
          "name": "stdout",
          "text": [
            "Enter a numeric grade64\n",
            "Your letter grade is  F\n"
          ]
        }
      ],
      "source": [
        "#Letter Grade Converter\n",
        "grade = int(input(\"Enter a numeric grade\"))\n",
        "if grade >=90:\n",
        "\tletter_grade='A'\n",
        "elif grade >=80:\n",
        "\tletter_grade='B'\n",
        "elif grade >=70:\n",
        "\tletter_grade='C'\n",
        "elif grade >=65:\n",
        "\tletter_grade='D'\n",
        "else:\n",
        "\tletter_grade='F'\n",
        "print(\"Your letter grade is \", letter_grade)"
      ]
    }
  ]
}