{
  "nbformat": 4,
  "nbformat_minor": 0,
  "metadata": {
    "colab": {
      "provenance": [],
      "authorship_tag": "ABX9TyMowCYxsP9ngWDIascLkVKg",
      "include_colab_link": true
    },
    "kernelspec": {
      "name": "python3",
      "display_name": "Python 3"
    },
    "language_info": {
      "name": "python"
    }
  },
  "cells": [
    {
      "cell_type": "markdown",
      "metadata": {
        "id": "view-in-github",
        "colab_type": "text"
      },
      "source": [
        "<a href=\"https://colab.research.google.com/github/tewei0328/teach-ITS/blob/main/ITS_14_if_elif.ipynb\" target=\"_parent\"><img src=\"https://colab.research.google.com/assets/colab-badge.svg\" alt=\"Open In Colab\"/></a>"
      ]
    },
    {
      "cell_type": "code",
      "execution_count": 12,
      "metadata": {
        "id": "PSNDgPzS-UiH"
      },
      "outputs": [],
      "source": [
        "grade=60"
      ]
    },
    {
      "cell_type": "code",
      "source": [
        "grade=98\n",
        "if grade>=90: \n",
        "  print(\"A\")\n",
        "elif grade >=80:\n",
        "  print(\"B\") \n",
        "elif grade >=70:\n",
        "  print(\"C\") \n",
        "else:\n",
        "  print(\"Fail\")"
      ],
      "metadata": {
        "colab": {
          "base_uri": "https://localhost:8080/"
        },
        "id": "HGjbd20G-Xwv",
        "outputId": "0b6d1efd-edec-43e4-d665-065666c69236"
      },
      "execution_count": 18,
      "outputs": [
        {
          "output_type": "stream",
          "name": "stdout",
          "text": [
            "A\n"
          ]
        }
      ]
    }
  ]
}