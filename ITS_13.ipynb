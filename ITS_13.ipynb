{
  "nbformat": 4,
  "nbformat_minor": 0,
  "metadata": {
    "colab": {
      "provenance": [],
      "authorship_tag": "ABX9TyPaTGiuvTwnBRkqZcYCgMzp",
      "include_colab_link": true
    },
    "kernelspec": {
      "name": "python3",
      "display_name": "Python 3"
    },
    "language_info": {
      "name": "python"
    }
  },
  "cells": [
    {
      "cell_type": "markdown",
      "metadata": {
        "id": "view-in-github",
        "colab_type": "text"
      },
      "source": [
        "<a href=\"https://colab.research.google.com/github/tewei0328/teach-ITS/blob/main/ITS_13.ipynb\" target=\"_parent\"><img src=\"https://colab.research.google.com/assets/colab-badge.svg\" alt=\"Open In Colab\"/></a>"
      ]
    },
    {
      "cell_type": "code",
      "execution_count": 18,
      "metadata": {
        "colab": {
          "base_uri": "https://localhost:8080/"
        },
        "id": "ZmriUA1B3Tu0",
        "outputId": "9336e60b-c7df-4680-e771-1418867dfea0"
      },
      "outputs": [
        {
          "output_type": "stream",
          "name": "stdout",
          "text": [
            "Enter next rating (1-5, -1 for done)1\n",
            "Enter next rating (1-5, -1 for done)2\n",
            "Enter next rating (1-5, -1 for done)-1\n",
            "The average star rating for the new coffee is 1.50\n"
          ]
        }
      ],
      "source": [
        "sum = count = done = 0 \n",
        "average = 0.0 \n",
        "\n",
        "while done != -1:\n",
        "  rating = float(input(\"Enter next rating (1-5, -1 for done)\")) \n",
        "  if rating == -1:\n",
        "    print(\"The average star rating for the new coffee is {:.2f}\".format(average))\n",
        "    break\n",
        "  sum += rating \n",
        "  count += 1\n",
        "  average = float(sum/count)\n"
      ]
    }
  ]
}